{
  "nbformat": 4,
  "nbformat_minor": 0,
  "metadata": {
    "colab": {
      "name": "Runge-Kutta_Response.ipynb",
      "provenance": [],
      "authorship_tag": "ABX9TyP5+6/REVmOGBn2Ne39p+Gn",
      "include_colab_link": true
    },
    "kernelspec": {
      "name": "python3",
      "display_name": "Python 3"
    },
    "language_info": {
      "name": "python"
    }
  },
  "cells": [
    {
      "cell_type": "markdown",
      "metadata": {
        "id": "view-in-github",
        "colab_type": "text"
      },
      "source": [
        "<a href=\"https://colab.research.google.com/github/KeisukeTobisawa/KeisukeTobisawa/blob/main/Runge_Kutta_Response.ipynb\" target=\"_parent\"><img src=\"https://colab.research.google.com/assets/colab-badge.svg\" alt=\"Open In Colab\"/></a>"
      ]
    },
    {
      "cell_type": "code",
      "source": [
        "from google.colab import drive\n",
        "drive.mount(\"/content/drive\")"
      ],
      "metadata": {
        "colab": {
          "base_uri": "https://localhost:8080/"
        },
        "id": "BZKk5l9gOgip",
        "outputId": "d0841b6d-b8c8-4c5e-b407-8407309c22b7"
      },
      "execution_count": 2,
      "outputs": [
        {
          "output_type": "stream",
          "name": "stdout",
          "text": [
            "Mounted at /content/drive\n"
          ]
        }
      ]
    },
    {
      "cell_type": "code",
      "execution_count": 4,
      "metadata": {
        "id": "Sy5ElJ3hKbe2"
      },
      "outputs": [],
      "source": [
        "import numpy as np\n",
        "from matplotlib import pyplot as plt\n",
        "import time\n",
        "import csv"
      ]
    },
    {
      "cell_type": "code",
      "source": [
        "#書き換えた微分方程式の関数\n",
        "def EOM(m,c,k,w,y,p):\n",
        "  Y = p\n",
        "  P = - w -(c / m) * p - (k / m) * y\n",
        "  return Y,P\n",
        "\n",
        "#加速度記録の読み込み\n",
        "with open('/content/drive/MyDrive/research1994/94-El_Centro.csv', encoding = 'utf-8-sig') as f:\n",
        "  reader = csv.reader(f)\n",
        "  wave_list = []\n",
        "  for row in reader:\n",
        "    wave_list.append(row)\n",
        "\n",
        "wname = wave_list[0][0]                #地震名\n",
        "dt = float(wave_list[1][1])            #サンプリングピッチ\n",
        "count = float(wave_list[2][1])         #データ数\n",
        "wave = []                              #加速度データ\n",
        "for i in wave_list[3:]:\n",
        "  j = i[0]\n",
        "  wave.append(float(j))\n",
        "wave = np.array(wave)\n",
        "\n",
        "print(wave)\n",
        "\n",
        "#振動方程式パラメータ\n",
        "m = 1.0\n",
        "h = 0.05\n",
        "T = 0.3\n",
        "k = 4*np.pi**2*m/T**2\n",
        "c = 2*h*np.sqrt(k*m)\n",
        "\n",
        "#解析条件\n",
        "t0 = 0.0\n",
        "ti = dt * len(wave)\n",
        "t_axis = np.arange(t0,ti,dt)\n",
        "\n",
        "\n",
        "md = 5                            #分割数\n",
        "ddt = dt/float(md)                #積分ピッチ\n",
        "\n",
        "#初期条件\n",
        "y_axis = np.zeros(len(t_axis))\n",
        "p_axis = np.zeros(len(t_axis))\n",
        "\n",
        "y0 = 0.0\n",
        "p0 = 0.0\n",
        "\n",
        "dis = y0\n",
        "vel = p0\n",
        "\n",
        "for t in range(0,len(t_axis)):    #加速度データの準備\n",
        "  w1 = 0.0\n",
        "  if t >= 1 :\n",
        "    w1 = wave[t-1]\n",
        "  w2 = wave[t]\n",
        "  y1 = dis\n",
        "  p1 = vel\n",
        "  for n in range(0,md):\n",
        "    wh = w1 + (w2 - w1) / float(md) * float(n) #加速度データのn+1/2番目の計算\n",
        "    k11,k12 = EOM(m,c,k,wh,y1,p1)\n",
        "    k21,k22 = EOM(m,c,k,wh,y1+ddt*k11/2.0,p1+ddt*k12/2.0)\n",
        "    k31,k32 = EOM(m,c,k,wh,y1+ddt*k21/2.0,p1+ddt*k22/2.0)\n",
        "    k41,k42 = EOM(m,c,k,wh,y1+ddt*k31,p1+ddt*k32)\n",
        "\n",
        "    y2 = y1 + ddt * (k11 + 2 * k21 + 2 * k31 + k41) / 6.0\n",
        "    p2 = p1 + ddt * (k12 + 2 * k22 + 2 * k32 + k42) / 6.0\n",
        "\n",
        "    y1 = y2\n",
        "    p1 = p2\n",
        "\n",
        "  dis = y1\n",
        "  vel = p1\n",
        "\n",
        "  y_axis[t] = dis\n",
        "  p_axis[t] = vel\n",
        "\n",
        "print(y_axis,p_axis)\n",
        "\n",
        "#グラフ描画\n",
        "\n",
        "plt.subplot(2, 1, 1)\n",
        "plt.plot(t_axis,y_axis, 'k-')\n",
        "plt.title('Acceleration')\n",
        "plt.ylabel('Acceleration (gal)')\n",
        "\n",
        "plt.subplot(2, 1, 2)\n",
        "plt.plot(t_axis,y_axis, 'r-')\n",
        "plt.xlabel('Time (s)')\n",
        "plt.ylabel('Responce velocity (kine)')\n",
        "\n",
        "plt.show()"
      ],
      "metadata": {
        "colab": {
          "base_uri": "https://localhost:8080/",
          "height": 350
        },
        "id": "9ypvxeiuK2II",
        "outputId": "6c678b4f-eb13-43e8-ca42-e1aceae77f0e"
      },
      "execution_count": 21,
      "outputs": [
        {
          "output_type": "stream",
          "name": "stdout",
          "text": [
            "[ -1.4 -10.8 -10.1 ...  -3.7  -2.6  -1.4]\n",
            "[6.61223659e-05 9.84495315e-04 5.04062407e-03 ... 7.45882850e-03\n",
            " 1.48928695e-02 2.05399824e-02] [0.01093205 0.10904058 0.28712722 ... 0.38922709 0.34009033 0.21337834]\n"
          ]
        },
        {
          "output_type": "display_data",
          "data": {
            "text/plain": [
              "<Figure size 432x288 with 2 Axes>"
            ],
            "image/png": "[encoded data removed]"
          },
          "metadata": {
            "needs_background": "light"
          }
        }
      ]
    },
    {
      "cell_type": "code",
      "source": [
        "with open('/content/drive/MyDrive/research1994/94-El_Centro.csv', encoding = 'utf-8-sig') as f:\n",
        "  reader = csv.reader(f)\n",
        "\n",
        "  wave_list = []\n",
        "  for row in reader:\n",
        "    wave_list.append(row)\n",
        "\n",
        "wname = wave_list[0][0]\n",
        "dt = float(wave_list[1][1])\n",
        "count = float(wave_list[2][1])\n",
        "wave = []\n",
        "for i in wave_list[3:]:\n",
        "  j = float(i[0])\n",
        "  wave.append(j)\n",
        "\n",
        "wname,dt,count,wave"
      ],
      "metadata": {
        "id": "vbzM3LxqQ7Yz"
      },
      "execution_count": null,
      "outputs": []
    },
    {
      "cell_type": "code",
      "source": [
        "with open('/content/drive/MyDrive/research1994/94-El_Centro.csv', encoding = 'utf-8-sig') as f:\n",
        "    for line in f:\n",
        "      line = line.strip('\\n').split(',')\n",
        "      print(line)\n"
      ],
      "metadata": {
        "id": "rR_X_aeoRK5j"
      },
      "execution_count": null,
      "outputs": []
    },
    {
      "cell_type": "code",
      "source": [
        "with open('/content/drive/MyDrive/research1994/94-El_Centro.csv', encoding = 'utf-8-sig') as f:\n",
        "  reader = csv.reader(f)\n",
        "\n",
        "  header = next(reader)\n",
        "  for i in reader:\n",
        "    print(i)"
      ],
      "metadata": {
        "id": "fBmtGjbPRtj7"
      },
      "execution_count": null,
      "outputs": []
    }
  ]
}